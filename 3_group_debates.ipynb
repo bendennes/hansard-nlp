{
 "cells": [
  {
   "cell_type": "code",
   "execution_count": 1,
   "id": "e9f0296c-0592-49bd-b9ed-15f183f22aff",
   "metadata": {},
   "outputs": [],
   "source": [
    "import numpy as np\n",
    "import pandas as pd\n",
    "import pickle\n",
    "\n",
    "import matplotlib.pyplot as plt"
   ]
  },
  {
   "cell_type": "markdown",
   "id": "e262e776-49f2-4243-9fff-65826c968e6f",
   "metadata": {},
   "source": [
    "### load lemmatized speeches"
   ]
  },
  {
   "cell_type": "code",
   "execution_count": 2,
   "id": "13b7c85e-c7f1-4f06-b165-2fead2311a24",
   "metadata": {},
   "outputs": [],
   "source": [
    "with open('speeches-lemmatized.pkl', 'rb') as f:\n",
    "    df = pickle.load(f)"
   ]
  },
  {
   "cell_type": "markdown",
   "id": "b3c48eb8-4f11-48b6-b0aa-86af74156015",
   "metadata": {},
   "source": [
    "### replace empty heading entries with ''"
   ]
  },
  {
   "cell_type": "code",
   "execution_count": 3,
   "id": "63280237-f392-487e-9701-f5378d137a88",
   "metadata": {},
   "outputs": [],
   "source": [
    "df[['major_heading', 'minor_heading']] = df[['major_heading', 'minor_heading']].fillna(value='')"
   ]
  },
  {
   "cell_type": "markdown",
   "id": "f1e3bf66-e660-4390-84eb-cfe559809fad",
   "metadata": {},
   "source": [
    "### combine major and minor headings"
   ]
  },
  {
   "cell_type": "code",
   "execution_count": 4,
   "id": "5b9d1c55-cdae-48f6-b609-90b93afdd48c",
   "metadata": {},
   "outputs": [],
   "source": [
    "df['minor_heading'] = df['minor_heading'].str.strip()\n",
    "df['major_heading'] = df['major_heading'].str.strip()\n",
    "df['heading'] = df['major_heading'] + ' ' + df['minor_heading']\n",
    "df['heading'] = df['heading'].str.strip()"
   ]
  },
  {
   "cell_type": "markdown",
   "id": "19468c00-1601-4851-b0c6-d700af7a6144",
   "metadata": {},
   "source": [
    "### aggregate entries\n",
    "\n",
    "rows with identical date, heading, and display_as index values are combined together: speeches by string joining with spaces, lemmas by list concatenation"
   ]
  },
  {
   "cell_type": "code",
   "execution_count": 5,
   "id": "2ddc3a36-415a-4da1-961a-a44bfb3cce87",
   "metadata": {},
   "outputs": [],
   "source": [
    "df_agg = df.groupby(['date', 'heading', 'mnis_id']).agg({'speech': lambda x: \" \".join(x), 'lemmas': 'sum'})"
   ]
  },
  {
   "cell_type": "code",
   "execution_count": 6,
   "id": "76807953-2679-4963-9671-992c85fa5e97",
   "metadata": {},
   "outputs": [
    {
     "data": {
      "text/html": [
       "<div>\n",
       "<style scoped>\n",
       "    .dataframe tbody tr th:only-of-type {\n",
       "        vertical-align: middle;\n",
       "    }\n",
       "\n",
       "    .dataframe tbody tr th {\n",
       "        vertical-align: top;\n",
       "    }\n",
       "\n",
       "    .dataframe thead th {\n",
       "        text-align: right;\n",
       "    }\n",
       "</style>\n",
       "<table border=\"1\" class=\"dataframe\">\n",
       "  <thead>\n",
       "    <tr style=\"text-align: right;\">\n",
       "      <th></th>\n",
       "      <th></th>\n",
       "      <th></th>\n",
       "      <th>speech</th>\n",
       "      <th>lemmas</th>\n",
       "    </tr>\n",
       "    <tr>\n",
       "      <th>date</th>\n",
       "      <th>heading</th>\n",
       "      <th>mnis_id</th>\n",
       "      <th></th>\n",
       "      <th></th>\n",
       "    </tr>\n",
       "  </thead>\n",
       "  <tbody>\n",
       "    <tr>\n",
       "      <th rowspan=\"5\" valign=\"top\">2010-05-25</th>\n",
       "      <th rowspan=\"5\" valign=\"top\">DEPUTY SPEAKERS Debate on the Address — [1st Day]</th>\n",
       "      <th>117</th>\n",
       "      <td>I congratulate the hon Member for Derby North ...</td>\n",
       "      <td>[congratulate, hon, member, derby, north, chri...</td>\n",
       "    </tr>\n",
       "    <tr>\n",
       "      <th>1388</th>\n",
       "      <td>I join the Prime Minister and the Leader of th...</td>\n",
       "      <td>[join, prime, minister, leader, opposition, pa...</td>\n",
       "    </tr>\n",
       "    <tr>\n",
       "      <th>14</th>\n",
       "      <td>I should like to express my gratitude to the v...</td>\n",
       "      <td>[like, express, gratitude, voter, wokingham, r...</td>\n",
       "    </tr>\n",
       "    <tr>\n",
       "      <th>1400</th>\n",
       "      <td>On a point of order, Mr Speaker. Is it in orde...</td>\n",
       "      <td>[point, order, mr, speaker, order, prime, mini...</td>\n",
       "    </tr>\n",
       "    <tr>\n",
       "      <th>1411</th>\n",
       "      <td>The right hon Gentleman has referred to the si...</td>\n",
       "      <td>[right, hon, gentleman, refer, situation, scot...</td>\n",
       "    </tr>\n",
       "    <tr>\n",
       "      <th>...</th>\n",
       "      <th>...</th>\n",
       "      <th>...</th>\n",
       "      <td>...</td>\n",
       "      <td>...</td>\n",
       "    </tr>\n",
       "    <tr>\n",
       "      <th rowspan=\"5\" valign=\"top\">2019-11-05</th>\n",
       "      <th rowspan=\"5\" valign=\"top\">Valedictory Debate</th>\n",
       "      <th>432</th>\n",
       "      <td>It seems only the blink of an eye since my hon...</td>\n",
       "      <td>[blink, eye, hon, friends, member, eale, north...</td>\n",
       "    </tr>\n",
       "    <tr>\n",
       "      <th>4455</th>\n",
       "      <td>On a point of order, Madam Deputy Speaker. As ...</td>\n",
       "      <td>[point, order, madam, deputy, speaker, point, ...</td>\n",
       "    </tr>\n",
       "    <tr>\n",
       "      <th>4524</th>\n",
       "      <td>I might have guessed, Madam Deputy Speaker. I ...</td>\n",
       "      <td>[guess, madam, deputy, speaker, course, abide,...</td>\n",
       "    </tr>\n",
       "    <tr>\n",
       "      <th>553</th>\n",
       "      <td>I wanted to allow others to go first, but than...</td>\n",
       "      <td>[want, allow, thank, madam, deputy, speaker, e...</td>\n",
       "    </tr>\n",
       "    <tr>\n",
       "      <th>88</th>\n",
       "      <td>I was first elected to this place as the first...</td>\n",
       "      <td>[elect, place, conservative, year, sit, consti...</td>\n",
       "    </tr>\n",
       "  </tbody>\n",
       "</table>\n",
       "<p>240797 rows × 2 columns</p>\n",
       "</div>"
      ],
      "text/plain": [
       "                                                                                                                 speech  \\\n",
       "date       heading                                           mnis_id                                                      \n",
       "2010-05-25 DEPUTY SPEAKERS Debate on the Address — [1st Day] 117      I congratulate the hon Member for Derby North ...   \n",
       "                                                             1388     I join the Prime Minister and the Leader of th...   \n",
       "                                                             14       I should like to express my gratitude to the v...   \n",
       "                                                             1400     On a point of order, Mr Speaker. Is it in orde...   \n",
       "                                                             1411     The right hon Gentleman has referred to the si...   \n",
       "...                                                                                                                 ...   \n",
       "2019-11-05 Valedictory Debate                                432      It seems only the blink of an eye since my hon...   \n",
       "                                                             4455     On a point of order, Madam Deputy Speaker. As ...   \n",
       "                                                             4524     I might have guessed, Madam Deputy Speaker. I ...   \n",
       "                                                             553      I wanted to allow others to go first, but than...   \n",
       "                                                             88       I was first elected to this place as the first...   \n",
       "\n",
       "                                                                                                                 lemmas  \n",
       "date       heading                                           mnis_id                                                     \n",
       "2010-05-25 DEPUTY SPEAKERS Debate on the Address — [1st Day] 117      [congratulate, hon, member, derby, north, chri...  \n",
       "                                                             1388     [join, prime, minister, leader, opposition, pa...  \n",
       "                                                             14       [like, express, gratitude, voter, wokingham, r...  \n",
       "                                                             1400     [point, order, mr, speaker, order, prime, mini...  \n",
       "                                                             1411     [right, hon, gentleman, refer, situation, scot...  \n",
       "...                                                                                                                 ...  \n",
       "2019-11-05 Valedictory Debate                                432      [blink, eye, hon, friends, member, eale, north...  \n",
       "                                                             4455     [point, order, madam, deputy, speaker, point, ...  \n",
       "                                                             4524     [guess, madam, deputy, speaker, course, abide,...  \n",
       "                                                             553      [want, allow, thank, madam, deputy, speaker, e...  \n",
       "                                                             88       [elect, place, conservative, year, sit, consti...  \n",
       "\n",
       "[240797 rows x 2 columns]"
      ]
     },
     "execution_count": 6,
     "metadata": {},
     "output_type": "execute_result"
    }
   ],
   "source": [
    "df_agg"
   ]
  },
  {
   "cell_type": "code",
   "execution_count": 7,
   "id": "a24c0113-7b09-45fa-b216-03ef3662b69d",
   "metadata": {},
   "outputs": [],
   "source": [
    "with open('speeches-lemmatized-agg.pkl', 'wb') as f:\n",
    "    pickle.dump(df_agg, f)"
   ]
  },
  {
   "cell_type": "markdown",
   "id": "2e850fbf-6d22-487e-ab0c-7c43ed1d44bd",
   "metadata": {},
   "source": [
    "### make n_grams"
   ]
  },
  {
   "cell_type": "code",
   "execution_count": 8,
   "id": "4dfa645c-da37-4c2c-8d30-96d5e2d95895",
   "metadata": {},
   "outputs": [
    {
     "name": "stderr",
     "output_type": "stream",
     "text": [
      "/home/bendennes/miniconda3/lib/python3.8/site-packages/gensim/similarities/__init__.py:15: UserWarning: The gensim.similarities.levenshtein submodule is disabled, because the optional Levenshtein package <https://pypi.org/project/python-Levenshtein/> is unavailable. Install Levenhstein (e.g. `pip install python-Levenshtein`) to suppress this warning.\n",
      "  warnings.warn(msg)\n"
     ]
    },
    {
     "name": "stdout",
     "output_type": "stream",
     "text": [
      "done 2-gram model\n",
      "done 3-gram model\n",
      "done 4-gram model\n",
      "done 5-gram model\n",
      "done 6-gram model\n"
     ]
    }
   ],
   "source": [
    "from gensim.models.phrases import Phrases, ENGLISH_CONNECTOR_WORDS\n",
    "\n",
    "# up to 6 long\n",
    "max_n_gram = 6\n",
    "\n",
    "ngram_models = {}\n",
    "\n",
    "texts = df_agg.lemmas.values\n",
    "\n",
    "for n in np.arange(2, max_n_gram+1):\n",
    "    ngram_models[n] = Phrases(texts,\n",
    "                              min_count=300, # individual words and n_gram used at least 300 times\n",
    "                              threshold=30, # score produced by Phrases - manual testing, 25 a conservative balance\n",
    "                              connector_words=ENGLISH_CONNECTOR_WORDS).freeze() # no more updates - freezing here is faster\n",
    "    texts = [ngram_models[n][text] for text in texts]\n",
    "    print(f'done {n}-gram model')"
   ]
  },
  {
   "cell_type": "code",
   "execution_count": 9,
   "id": "bf741ac4-ae49-40b4-82dd-046a3a58f518",
   "metadata": {},
   "outputs": [],
   "source": [
    "df_agg['lemmas_ngrams'] = texts\n",
    "df_agg = df_agg.drop(columns='lemmas')"
   ]
  },
  {
   "cell_type": "code",
   "execution_count": 10,
   "id": "f8a7d427-a23c-4b59-a50d-bd2cc0aabe3c",
   "metadata": {},
   "outputs": [],
   "source": [
    "# phrases = ngram_models[6].export_phrases()\n",
    "# sorted_phrases_asc = dict(sorted(phrases.items(), key=lambda item: item[1]))\n",
    "# sorted_phrases_desc = dict(sorted(phrases.items(), key=lambda item: item[1], reverse=True))"
   ]
  },
  {
   "cell_type": "markdown",
   "id": "c40cfbb6-af36-49d2-b187-8a302ef137e7",
   "metadata": {},
   "source": [
    "## remove lemmas present in >X% speeches"
   ]
  },
  {
   "cell_type": "code",
   "execution_count": 11,
   "id": "47a92732-e36b-4d5f-9642-52ead58745a1",
   "metadata": {},
   "outputs": [
    {
     "name": "stdout",
     "output_type": "stream",
     "text": [
      "fit cv\n",
      "found stopwords and removed from texts (lists of lemmas)\n"
     ]
    }
   ],
   "source": [
    "from sklearn.feature_extraction.text import CountVectorizer\n",
    "\n",
    "dummy = lambda x: x\n",
    "\n",
    "cv = CountVectorizer(\n",
    "    tokenizer=dummy,\n",
    "    preprocessor=dummy,\n",
    "    token_pattern=None,\n",
    "    max_df = 0.20\n",
    "    )\n",
    "\n",
    "texts = df_agg.lemmas_ngrams.values\n",
    "cv.fit(texts)\n",
    "print(\"fit cv\")\n",
    "\n",
    "stopwords = list(cv.stop_words_) + ['', ' ']\n",
    "texts = [[w for w in text if w not in stopwords] for text in texts]\n",
    "print('found stopwords and removed from texts (lists of lemmas)')"
   ]
  },
  {
   "cell_type": "code",
   "execution_count": 12,
   "id": "93065247-69cc-4d71-8e0d-49a73752153c",
   "metadata": {},
   "outputs": [
    {
     "data": {
      "text/plain": [
       "['time',\n",
       " 'say',\n",
       " 'right',\n",
       " 'point',\n",
       " 'want',\n",
       " 'need',\n",
       " 'people',\n",
       " 'member',\n",
       " 'good',\n",
       " 'issue',\n",
       " 'hon',\n",
       " 'come',\n",
       " 'give',\n",
       " 'year',\n",
       " 'country',\n",
       " 'support',\n",
       " 'secretary_state',\n",
       " 'work',\n",
       " 'agree',\n",
       " 'minister',\n",
       " 'ensure',\n",
       " 'debate',\n",
       " 'way',\n",
       " 'government',\n",
       " 'house',\n",
       " 'know',\n",
       " 'go',\n",
       " 'friend',\n",
       " 'take',\n",
       " '',\n",
       " ' ']"
      ]
     },
     "execution_count": 12,
     "metadata": {},
     "output_type": "execute_result"
    }
   ],
   "source": [
    "stopwords"
   ]
  },
  {
   "cell_type": "markdown",
   "id": "2a5caaa8-17d9-45fe-be8f-02fd588e1a67",
   "metadata": {},
   "source": [
    "* In parliament convention is not to refer to other MPs by name, or using second person pronouns. This leads to stopwords like 'right', 'hon', 'member', 'friend' (e.g. \"does my right hon. friend agree that...\" vs \"Theresa May, do you agree that...\") and 'minister', (\"the minister for vaccines\"\n",
    "* Others related to typical non-topical political rhetoric, e.g. 'government', 'people', 'need', 'work'\n",
    "* Others related to parliamentary procedure, e.g. 'time', 'house', 'year'"
   ]
  },
  {
   "cell_type": "code",
   "execution_count": 13,
   "id": "2fe48f4f-4168-45dc-b50a-cbacbfec123d",
   "metadata": {
    "tags": []
   },
   "outputs": [],
   "source": [
    "# separate dataframe for stopword removal - quicker testing due to time of n-grams creation\n",
    "df_agg_sw = df_agg.copy() # sw is version including stopwords\n",
    "df_agg['lemmas_ngrams'] = texts"
   ]
  },
  {
   "cell_type": "code",
   "execution_count": 14,
   "id": "a9a40cd6-b7db-4c71-b33b-28c59e3929f8",
   "metadata": {},
   "outputs": [],
   "source": [
    "with open('speeches-lemmatized-agg-ngrams.pkl', 'wb') as f:\n",
    "    pickle.dump(df_agg, f)"
   ]
  },
  {
   "cell_type": "markdown",
   "id": "f684c207-b00a-48e0-8cdf-33cb61378371",
   "metadata": {},
   "source": [
    "### remove speeches with fewer than 40 lemmas"
   ]
  },
  {
   "cell_type": "code",
   "execution_count": null,
   "id": "fee92e83-4cb7-4fe7-96b5-d9a113296a14",
   "metadata": {},
   "outputs": [],
   "source": [
    "with open('speeches-lemmatized-agg-ngrams.pkl', 'rb') as f:\n",
    "    df_agg = pickle.load(f)"
   ]
  },
  {
   "cell_type": "code",
   "execution_count": 15,
   "id": "65b13664-1515-49f5-8f20-301a6ff7270f",
   "metadata": {},
   "outputs": [],
   "source": [
    "lengths = df_agg.lemmas_ngrams.apply(len).values"
   ]
  },
  {
   "cell_type": "code",
   "execution_count": 16,
   "id": "230f0834-815a-4399-af8d-400b41dceb48",
   "metadata": {},
   "outputs": [
    {
     "data": {
      "image/png": "[encoded data removed]",
      "text/plain": [
       "<Figure size 432x288 with 1 Axes>"
      ]
     },
     "metadata": {
      "needs_background": "light"
     },
     "output_type": "display_data"
    }
   ],
   "source": [
    "hist, bin_edges, _ = plt.hist(lengths, bins=100)\n",
    "plt.yscale('log')\n",
    "plt.show()"
   ]
  },
  {
   "cell_type": "code",
   "execution_count": 17,
   "id": "5e280f6e-4081-4156-b4ce-a897f5220d0f",
   "metadata": {},
   "outputs": [
    {
     "data": {
      "image/png": "[encoded data removed]",
      "text/plain": [
       "<Figure size 432x288 with 1 Axes>"
      ]
     },
     "metadata": {
      "needs_background": "light"
     },
     "output_type": "display_data"
    }
   ],
   "source": [
    "plt.plot(bin_edges[1:], np.cumsum(hist / np.sum(hist)))\n",
    "plt.grid()"
   ]
  },
  {
   "cell_type": "code",
   "execution_count": 18,
   "id": "372c0263-1ac6-4645-afe0-a5cfab76f2d0",
   "metadata": {},
   "outputs": [
    {
     "name": "stdout",
     "output_type": "stream",
     "text": [
      "I welcome the escalation of sanctions and note what my right hon Friend said about Russia’s self-inflicted wounds to her economy and her standing in the world. What is his message today to any individual or company that is considering investing in or doing business with Russia? \n",
      "\n",
      "How can we unite together when the Government are withholding information from the rest of the House? \n",
      "\n",
      "Tourism is key to my constituency, and Dawlish Warren has a huge number of static caravans. Chilling figures given to me from Peppermint park in Dawlish Warren suggest a loss of 4,300 jobs just from the parks, with the loss of 1,500 jobs in the supply industry, 80 caravan distribution jobs and 1,400 from holiday homes manufacturers. If my maths is right, that is about 8,000 jobs lost. \n",
      "\n",
      "I commend my right hon Friend for coming to the House and making his apology, which I think will be welcomed. When the Met police met London MPs, they complained about the opaqueness of the previous formula, and also pointed out that the London police undertook nationally significant policing tasks. Will my right hon Friend guarantee that the new formula will be more transparent, and that the London settlement will recognise and match the demand for the policing of nationally significant events? \n",
      "\n",
      "I was sceptical about the Youth Parliament but the cure for my scepticism was seeing it in action and realising that at least one future parliamentarian was almost certainly there on that day. The Stormont Assembly has been doing this for years and not only are there absolutely no problems in Stormont but Ministers respond to the Youth Parliament in the Northern Ireland Assembly. As with many issues, we could look across the water and learn from them. \n",
      "\n"
     ]
    }
   ],
   "source": [
    "for x in df_agg[df_agg.lemmas_ngrams.apply(len) < 40].sample(5).speech.values:\n",
    "    print(x,'\\n')"
   ]
  },
  {
   "cell_type": "code",
   "execution_count": 19,
   "id": "2af1f16e-65c9-4b59-b28c-0a472536e72d",
   "metadata": {},
   "outputs": [
    {
     "data": {
      "text/plain": [
       "0.39333131226717943"
      ]
     },
     "execution_count": 19,
     "metadata": {},
     "output_type": "execute_result"
    }
   ],
   "source": [
    "# no. entries in df\n",
    "total_l = len(df_agg)\n",
    "\n",
    "# minimum no. lemmas for passed speeches\n",
    "t = 40\n",
    "\n",
    "# filter\n",
    "# again, separate dataframe for quicker testing at memory expense\n",
    "df_agg_t = df_agg[df_agg.lemmas_ngrams.apply(len) >= t]\n",
    "\n",
    "# proportion entries retained\n",
    "len(df_agg_t) / total_l"
   ]
  },
  {
   "cell_type": "code",
   "execution_count": 20,
   "id": "82e42a15-4a1a-42c7-b097-a6061e9b4af1",
   "metadata": {},
   "outputs": [
    {
     "data": {
      "text/html": [
       "<div>\n",
       "<style scoped>\n",
       "    .dataframe tbody tr th:only-of-type {\n",
       "        vertical-align: middle;\n",
       "    }\n",
       "\n",
       "    .dataframe tbody tr th {\n",
       "        vertical-align: top;\n",
       "    }\n",
       "\n",
       "    .dataframe thead th {\n",
       "        text-align: right;\n",
       "    }\n",
       "</style>\n",
       "<table border=\"1\" class=\"dataframe\">\n",
       "  <thead>\n",
       "    <tr style=\"text-align: right;\">\n",
       "      <th></th>\n",
       "      <th></th>\n",
       "      <th></th>\n",
       "      <th>speech</th>\n",
       "      <th>lemmas_ngrams</th>\n",
       "    </tr>\n",
       "    <tr>\n",
       "      <th>date</th>\n",
       "      <th>heading</th>\n",
       "      <th>mnis_id</th>\n",
       "      <th></th>\n",
       "      <th></th>\n",
       "    </tr>\n",
       "  </thead>\n",
       "  <tbody>\n",
       "    <tr>\n",
       "      <th rowspan=\"5\" valign=\"top\">2010-05-25</th>\n",
       "      <th rowspan=\"5\" valign=\"top\">DEPUTY SPEAKERS Debate on the Address — [1st Day]</th>\n",
       "      <th>117</th>\n",
       "      <td>I congratulate the hon Member for Derby North ...</td>\n",
       "      <td>[congratulate, derby, north, chris, williamson...</td>\n",
       "    </tr>\n",
       "    <tr>\n",
       "      <th>1388</th>\n",
       "      <td>I join the Prime Minister and the Leader of th...</td>\n",
       "      <td>[join, prime_minister, leader, opposition, pay...</td>\n",
       "    </tr>\n",
       "    <tr>\n",
       "      <th>14</th>\n",
       "      <td>I should like to express my gratitude to the v...</td>\n",
       "      <td>[like, express, gratitude, voter, wokingham, r...</td>\n",
       "    </tr>\n",
       "    <tr>\n",
       "      <th>1446</th>\n",
       "      <td>On a point of order, Mr Speaker. You said earl...</td>\n",
       "      <td>[point_order_mr_speaker, early, sake, accuracy...</td>\n",
       "    </tr>\n",
       "    <tr>\n",
       "      <th>1453</th>\n",
       "      <td>I want to pick the right hon Gentleman up on a...</td>\n",
       "      <td>[pick, gentleman, different, talk, health, spe...</td>\n",
       "    </tr>\n",
       "    <tr>\n",
       "      <th>...</th>\n",
       "      <th>...</th>\n",
       "      <th>...</th>\n",
       "      <td>...</td>\n",
       "      <td>...</td>\n",
       "    </tr>\n",
       "    <tr>\n",
       "      <th rowspan=\"5\" valign=\"top\">2019-11-05</th>\n",
       "      <th rowspan=\"5\" valign=\"top\">Valedictory Debate</th>\n",
       "      <th>432</th>\n",
       "      <td>It seems only the blink of an eye since my hon...</td>\n",
       "      <td>[blink, eye, friends, eale, north, stephen, po...</td>\n",
       "    </tr>\n",
       "    <tr>\n",
       "      <th>4455</th>\n",
       "      <td>On a point of order, Madam Deputy Speaker. As ...</td>\n",
       "      <td>[order, madam_deputy_speaker, order, seek, gui...</td>\n",
       "    </tr>\n",
       "    <tr>\n",
       "      <th>4524</th>\n",
       "      <td>I might have guessed, Madam Deputy Speaker. I ...</td>\n",
       "      <td>[guess, madam_deputy_speaker, course, abide, s...</td>\n",
       "    </tr>\n",
       "    <tr>\n",
       "      <th>553</th>\n",
       "      <td>I wanted to allow others to go first, but than...</td>\n",
       "      <td>[allow, thank, madam_deputy_speaker, elect, mi...</td>\n",
       "    </tr>\n",
       "    <tr>\n",
       "      <th>88</th>\n",
       "      <td>I was first elected to this place as the first...</td>\n",
       "      <td>[elect, place, conservative, sit, constituency...</td>\n",
       "    </tr>\n",
       "  </tbody>\n",
       "</table>\n",
       "<p>94713 rows × 2 columns</p>\n",
       "</div>"
      ],
      "text/plain": [
       "                                                                                                                 speech  \\\n",
       "date       heading                                           mnis_id                                                      \n",
       "2010-05-25 DEPUTY SPEAKERS Debate on the Address — [1st Day] 117      I congratulate the hon Member for Derby North ...   \n",
       "                                                             1388     I join the Prime Minister and the Leader of th...   \n",
       "                                                             14       I should like to express my gratitude to the v...   \n",
       "                                                             1446     On a point of order, Mr Speaker. You said earl...   \n",
       "                                                             1453     I want to pick the right hon Gentleman up on a...   \n",
       "...                                                                                                                 ...   \n",
       "2019-11-05 Valedictory Debate                                432      It seems only the blink of an eye since my hon...   \n",
       "                                                             4455     On a point of order, Madam Deputy Speaker. As ...   \n",
       "                                                             4524     I might have guessed, Madam Deputy Speaker. I ...   \n",
       "                                                             553      I wanted to allow others to go first, but than...   \n",
       "                                                             88       I was first elected to this place as the first...   \n",
       "\n",
       "                                                                                                          lemmas_ngrams  \n",
       "date       heading                                           mnis_id                                                     \n",
       "2010-05-25 DEPUTY SPEAKERS Debate on the Address — [1st Day] 117      [congratulate, derby, north, chris, williamson...  \n",
       "                                                             1388     [join, prime_minister, leader, opposition, pay...  \n",
       "                                                             14       [like, express, gratitude, voter, wokingham, r...  \n",
       "                                                             1446     [point_order_mr_speaker, early, sake, accuracy...  \n",
       "                                                             1453     [pick, gentleman, different, talk, health, spe...  \n",
       "...                                                                                                                 ...  \n",
       "2019-11-05 Valedictory Debate                                432      [blink, eye, friends, eale, north, stephen, po...  \n",
       "                                                             4455     [order, madam_deputy_speaker, order, seek, gui...  \n",
       "                                                             4524     [guess, madam_deputy_speaker, course, abide, s...  \n",
       "                                                             553      [allow, thank, madam_deputy_speaker, elect, mi...  \n",
       "                                                             88       [elect, place, conservative, sit, constituency...  \n",
       "\n",
       "[94713 rows x 2 columns]"
      ]
     },
     "execution_count": 20,
     "metadata": {},
     "output_type": "execute_result"
    }
   ],
   "source": [
    "df_agg_t"
   ]
  },
  {
   "cell_type": "code",
   "execution_count": 21,
   "id": "cc780a39-6ec3-48e8-8745-474aa0266b9d",
   "metadata": {
    "collapsed": true,
    "jupyter": {
     "outputs_hidden": true
    },
    "tags": []
   },
   "outputs": [
    {
     "data": {
      "text/plain": [
       "<AxesSubplot:>"
      ]
     },
     "execution_count": 21,
     "metadata": {},
     "output_type": "execute_result"
    },
    {
     "data": {
      "image/png": "[encoded data removed]",
      "text/plain": [
       "<Figure size 432x288 with 1 Axes>"
      ]
     },
     "metadata": {
      "needs_background": "light"
     },
     "output_type": "display_data"
    }
   ],
   "source": [
    "df_agg[df_agg.lemmas_ngrams.apply(len) < t].lemmas_ngrams.apply(len).hist(bins=t)"
   ]
  },
  {
   "cell_type": "code",
   "execution_count": 22,
   "id": "03460568-b2f1-4575-aa78-b4d24348e569",
   "metadata": {},
   "outputs": [],
   "source": [
    "with open('speeches-lemmatized-agg-ngrams-long.pkl', 'wb') as f:\n",
    "    pickle.dump(df_agg_t, f)"
   ]
  }
 ],
 "metadata": {
  "kernelspec": {
   "display_name": "Python 3",
   "language": "python",
   "name": "python3"
  },
  "language_info": {
   "codemirror_mode": {
    "name": "ipython",
    "version": 3
   },
   "file_extension": ".py",
   "mimetype": "text/x-python",
   "name": "python",
   "nbconvert_exporter": "python",
   "pygments_lexer": "ipython3",
   "version": "3.8.5"
  }
 },
 "nbformat": 4,
 "nbformat_minor": 5
}
