{
 "cells": [
  {
   "cell_type": "code",
   "execution_count": 2,
   "id": "e9f0296c-0592-49bd-b9ed-15f183f22aff",
   "metadata": {},
   "outputs": [],
   "source": [
    "import numpy as np\n",
    "import pandas as pd\n",
    "import pickle"
   ]
  },
  {
   "cell_type": "code",
   "execution_count": 3,
   "id": "13b7c85e-c7f1-4f06-b165-2fead2311a24",
   "metadata": {},
   "outputs": [],
   "source": [
    "with open('hansard-speeches-post2010-lemmatized.pkl', 'rb') as f:\n",
    "    df = pickle.load(f)"
   ]
  },
  {
   "cell_type": "code",
   "execution_count": 15,
   "id": "63280237-f392-487e-9701-f5378d137a88",
   "metadata": {},
   "outputs": [],
   "source": [
    "df[['major_heading', 'minor_heading']] = df[['major_heading', 'minor_heading']].fillna(value='')"
   ]
  },
  {
   "cell_type": "code",
   "execution_count": 16,
   "id": "5b9d1c55-cdae-48f6-b609-90b93afdd48c",
   "metadata": {},
   "outputs": [],
   "source": [
    "df['minor_heading'] = df['minor_heading'].str.strip()\n",
    "df['major_heading'] = df['major_heading'].str.strip()\n",
    "df['heading'] = df['major_heading'] + ' ' + df['minor_heading']\n",
    "df['heading'] = df['heading'].str.strip()"
   ]
  },
  {
   "cell_type": "code",
   "execution_count": 20,
   "id": "2ddc3a36-415a-4da1-961a-a44bfb3cce87",
   "metadata": {},
   "outputs": [],
   "source": [
    "df_agg = df.groupby(['date', 'heading', 'display_as']).agg({'speech': lambda x: \" \".join(x), 'lemmas': 'sum'})"
   ]
  },
  {
   "cell_type": "code",
   "execution_count": 25,
   "id": "a24c0113-7b09-45fa-b216-03ef3662b69d",
   "metadata": {},
   "outputs": [],
   "source": [
    "with open('hansard-speeches-post2010-lemmatized-agg.pkl', 'wb') as f:\n",
    "    pickle.dump(df_agg, f)"
   ]
  }
 ],
 "metadata": {
  "kernelspec": {
   "display_name": "Python 3",
   "language": "python",
   "name": "python3"
  },
  "language_info": {
   "codemirror_mode": {
    "name": "ipython",
    "version": 3
   },
   "file_extension": ".py",
   "mimetype": "text/x-python",
   "name": "python",
   "nbconvert_exporter": "python",
   "pygments_lexer": "ipython3",
   "version": "3.8.5"
  }
 },
 "nbformat": 4,
 "nbformat_minor": 5
}
