{
 "cells": [
  {
   "cell_type": "code",
   "execution_count": 1,
   "metadata": {
    "executionInfo": {
     "elapsed": 196,
     "status": "ok",
     "timestamp": 1622539345677,
     "user": {
      "displayName": "Ben Dennes",
      "photoUrl": "https://lh3.googleusercontent.com/a-/AOh14Gietm7VL1EPGw5_7KIwu0dDBYFGlFdVT_JdfWdzJw=s64",
      "userId": "15783287089786822801"
     },
     "user_tz": -60
    },
    "id": "v12K3j1-E3X_"
   },
   "outputs": [],
   "source": [
    "import os\n",
    "import shutil\n",
    "import pandas as pd"
   ]
  },
  {
   "cell_type": "markdown",
   "metadata": {
    "id": "QfaEQYyECjyp"
   },
   "source": [
    "Download Evan Odell Harvard Speeches Data"
   ]
  },
  {
   "cell_type": "code",
   "execution_count": 2,
   "metadata": {
    "executionInfo": {
     "elapsed": 8,
     "status": "ok",
     "timestamp": 1622539347018,
     "user": {
      "displayName": "Ben Dennes",
      "photoUrl": "https://lh3.googleusercontent.com/a-/AOh14Gietm7VL1EPGw5_7KIwu0dDBYFGlFdVT_JdfWdzJw=s64",
      "userId": "15783287089786822801"
     },
     "user_tz": -60
    },
    "id": "4qQGMZF5EXUA"
   },
   "outputs": [],
   "source": [
    "repo_url = 'https://zenodo.org/record/4843485/files/'\n",
    "repo_file_names = [\n",
    "        'hansard-speeches-v310.csv.zip',\n",
    "        'parliamentary_posts.json'\n",
    "]"
   ]
  },
  {
   "cell_type": "code",
   "execution_count": 3,
   "metadata": {
    "executionInfo": {
     "elapsed": 8,
     "status": "ok",
     "timestamp": 1622539347019,
     "user": {
      "displayName": "Ben Dennes",
      "photoUrl": "https://lh3.googleusercontent.com/a-/AOh14Gietm7VL1EPGw5_7KIwu0dDBYFGlFdVT_JdfWdzJw=s64",
      "userId": "15783287089786822801"
     },
     "user_tz": -60
    },
    "id": "kt4Ml5cjE4_0"
   },
   "outputs": [],
   "source": [
    "# run once only\n",
    "for fn in repo_file_names:\n",
    "    os.system(f'wget {repo_url + fn}')"
   ]
  },
  {
   "cell_type": "markdown",
   "metadata": {
    "id": "jCXUo7n3NRB9"
   },
   "source": [
    "* Load csv to pandas\n",
    "* remove unneeded columns\n",
    "* filter speech types (keep 'Speech' only)"
   ]
  },
  {
   "cell_type": "code",
   "execution_count": 5,
   "metadata": {
    "executionInfo": {
     "elapsed": 61701,
     "status": "ok",
     "timestamp": 1622539793122,
     "user": {
      "displayName": "Ben Dennes",
      "photoUrl": "https://lh3.googleusercontent.com/a-/AOh14Gietm7VL1EPGw5_7KIwu0dDBYFGlFdVT_JdfWdzJw=s64",
      "userId": "15783287089786822801"
     },
     "user_tz": -60
    },
    "id": "V4Y1Yb1UNQ0q"
   },
   "outputs": [],
   "source": [
    "df = pd.read_csv(repo_file_names[0],\n",
    "                 dtype=str,\n",
    "                 parse_dates=[['date', 'time']])\n",
    "\n",
    "# filter speech class - keep only actual speeches (not procedural/division Hansard entries)\n",
    "df = df[df.speech_class=='Speech']\n",
    "\n",
    "# remove unneeded columns\n",
    "drop_cols = ['year', 'id', 'speakername', 'speech_class', 'hansard_membership_id', 'colnum']\n",
    "df.drop(labels=drop_cols, axis=1, inplace=True)"
   ]
  },
  {
   "cell_type": "code",
   "execution_count": 6,
   "metadata": {
    "colab": {
     "base_uri": "https://localhost:8080/",
     "height": 220
    },
    "executionInfo": {
     "elapsed": 206,
     "status": "ok",
     "timestamp": 1622540142710,
     "user": {
      "displayName": "Ben Dennes",
      "photoUrl": "https://lh3.googleusercontent.com/a-/AOh14Gietm7VL1EPGw5_7KIwu0dDBYFGlFdVT_JdfWdzJw=s64",
      "userId": "15783287089786822801"
     },
     "user_tz": -60
    },
    "id": "8nTxPOVYvBd2",
    "outputId": "0341eb03-ed5c-45a4-bdeb-69e6d0153e36"
   },
   "outputs": [
    {
     "data": {
      "text/html": [
       "<div>\n",
       "<style scoped>\n",
       "    .dataframe tbody tr th:only-of-type {\n",
       "        vertical-align: middle;\n",
       "    }\n",
       "\n",
       "    .dataframe tbody tr th {\n",
       "        vertical-align: top;\n",
       "    }\n",
       "\n",
       "    .dataframe thead th {\n",
       "        text-align: right;\n",
       "    }\n",
       "</style>\n",
       "<table border=\"1\" class=\"dataframe\">\n",
       "  <thead>\n",
       "    <tr style=\"text-align: right;\">\n",
       "      <th></th>\n",
       "      <th>date_time</th>\n",
       "      <th>speech</th>\n",
       "      <th>display_as</th>\n",
       "      <th>party</th>\n",
       "      <th>constituency</th>\n",
       "      <th>mnis_id</th>\n",
       "      <th>major_heading</th>\n",
       "      <th>minor_heading</th>\n",
       "      <th>oral_heading</th>\n",
       "      <th>speakerid</th>\n",
       "      <th>person_id</th>\n",
       "      <th>url</th>\n",
       "    </tr>\n",
       "  </thead>\n",
       "  <tbody>\n",
       "    <tr>\n",
       "      <th>2516273</th>\n",
       "      <td>2018-07-09 15:47:00</td>\n",
       "      <td>The EU says that it will not tolerate cherry p...</td>\n",
       "      <td>Edward Leigh</td>\n",
       "      <td>Conservative</td>\n",
       "      <td>Gainsborough</td>\n",
       "      <td>345</td>\n",
       "      <td>\\nLEAVING THE EU\\n</td>\n",
       "      <td>NaN</td>\n",
       "      <td>NaN</td>\n",
       "      <td>NaN</td>\n",
       "      <td>uk.org.publicwhip/person/10352</td>\n",
       "      <td>NaN</td>\n",
       "    </tr>\n",
       "    <tr>\n",
       "      <th>195131</th>\n",
       "      <td>1982-03-31 nan</td>\n",
       "      <td>Most of the constitutional principles have bee...</td>\n",
       "      <td>Richard Luce</td>\n",
       "      <td>Conservative</td>\n",
       "      <td>Shoreham</td>\n",
       "      <td>908</td>\n",
       "      <td>Oral Answers to Questions — FOREIGN AND COMMON...</td>\n",
       "      <td>Namibia</td>\n",
       "      <td>NaN</td>\n",
       "      <td>uk.org.publicwhip/member/17448</td>\n",
       "      <td>NaN</td>\n",
       "      <td>NaN</td>\n",
       "    </tr>\n",
       "    <tr>\n",
       "      <th>2138035</th>\n",
       "      <td>2012-12-11 012:48:00</td>\n",
       "      <td>I congratulate my right hon. Friend on deliver...</td>\n",
       "      <td>Stewart Jackson</td>\n",
       "      <td>Conservative</td>\n",
       "      <td>Peterborough</td>\n",
       "      <td>1551</td>\n",
       "      <td>\\n\\tEqual Marriage Consultation\\n</td>\n",
       "      <td>NaN</td>\n",
       "      <td>NaN</td>\n",
       "      <td>uk.org.publicwhip/member/40479</td>\n",
       "      <td>NaN</td>\n",
       "      <td>http://www.publications.parliament.uk/pa/cm201...</td>\n",
       "    </tr>\n",
       "  </tbody>\n",
       "</table>\n",
       "</div>"
      ],
      "text/plain": [
       "                    date_time  \\\n",
       "2516273   2018-07-09 15:47:00   \n",
       "195131         1982-03-31 nan   \n",
       "2138035  2012-12-11 012:48:00   \n",
       "\n",
       "                                                    speech       display_as  \\\n",
       "2516273  The EU says that it will not tolerate cherry p...     Edward Leigh   \n",
       "195131   Most of the constitutional principles have bee...     Richard Luce   \n",
       "2138035  I congratulate my right hon. Friend on deliver...  Stewart Jackson   \n",
       "\n",
       "                party  constituency mnis_id  \\\n",
       "2516273  Conservative  Gainsborough     345   \n",
       "195131   Conservative      Shoreham     908   \n",
       "2138035  Conservative  Peterborough    1551   \n",
       "\n",
       "                                             major_heading minor_heading  \\\n",
       "2516273                                 \\nLEAVING THE EU\\n           NaN   \n",
       "195131   Oral Answers to Questions — FOREIGN AND COMMON...       Namibia   \n",
       "2138035                  \\n\\tEqual Marriage Consultation\\n           NaN   \n",
       "\n",
       "        oral_heading                       speakerid  \\\n",
       "2516273          NaN                             NaN   \n",
       "195131           NaN  uk.org.publicwhip/member/17448   \n",
       "2138035          NaN  uk.org.publicwhip/member/40479   \n",
       "\n",
       "                              person_id  \\\n",
       "2516273  uk.org.publicwhip/person/10352   \n",
       "195131                              NaN   \n",
       "2138035                             NaN   \n",
       "\n",
       "                                                       url  \n",
       "2516273                                                NaN  \n",
       "195131                                                 NaN  \n",
       "2138035  http://www.publications.parliament.uk/pa/cm201...  "
      ]
     },
     "execution_count": 6,
     "metadata": {},
     "output_type": "execute_result"
    }
   ],
   "source": [
    "df.sample(3)"
   ]
  },
  {
   "cell_type": "markdown",
   "metadata": {
    "id": "YGW1oJbM7eY2"
   },
   "source": [
    "regex on heading columns - remove "
   ]
  },
  {
   "cell_type": "code",
   "execution_count": null,
   "metadata": {},
   "outputs": [],
   "source": []
  }
 ],
 "metadata": {
  "colab": {
   "authorship_tag": "ABX9TyPRqQfB7cFTmFw5quwcu3vo",
   "collapsed_sections": [],
   "mount_file_id": "1TjNzv1zPXA-1kFlwqHKZunIz1ilcQBNe",
   "name": "hansard_get_process.ipynb",
   "provenance": []
  },
  "kernelspec": {
   "display_name": "Python 3",
   "language": "python",
   "name": "python3"
  },
  "language_info": {
   "codemirror_mode": {
    "name": "ipython",
    "version": 3
   },
   "file_extension": ".py",
   "mimetype": "text/x-python",
   "name": "python",
   "nbconvert_exporter": "python",
   "pygments_lexer": "ipython3",
   "version": "3.8.5"
  }
 },
 "nbformat": 4,
 "nbformat_minor": 4
}
