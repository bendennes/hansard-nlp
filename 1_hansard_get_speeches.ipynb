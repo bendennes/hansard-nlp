{
 "cells": [
  {
   "cell_type": "code",
   "execution_count": 9,
   "metadata": {
    "executionInfo": {
     "elapsed": 196,
     "status": "ok",
     "timestamp": 1622539345677,
     "user": {
      "displayName": "Ben Dennes",
      "photoUrl": "https://lh3.googleusercontent.com/a-/AOh14Gietm7VL1EPGw5_7KIwu0dDBYFGlFdVT_JdfWdzJw=s64",
      "userId": "15783287089786822801"
     },
     "user_tz": -60
    },
    "id": "v12K3j1-E3X_"
   },
   "outputs": [],
   "source": [
    "import os\n",
    "import pandas as pd\n",
    "from datetime import datetime\n",
    "import matplotlib.pyplot as plt\n",
    "import pickle"
   ]
  },
  {
   "cell_type": "markdown",
   "metadata": {
    "id": "QfaEQYyECjyp"
   },
   "source": [
    "Download Evan Odell Harvard Speeches Data\n",
    "\n",
    "https://evanodell.com/projects/datasets/hansard-data/"
   ]
  },
  {
   "cell_type": "code",
   "execution_count": 10,
   "metadata": {
    "executionInfo": {
     "elapsed": 8,
     "status": "ok",
     "timestamp": 1622539347018,
     "user": {
      "displayName": "Ben Dennes",
      "photoUrl": "https://lh3.googleusercontent.com/a-/AOh14Gietm7VL1EPGw5_7KIwu0dDBYFGlFdVT_JdfWdzJw=s64",
      "userId": "15783287089786822801"
     },
     "user_tz": -60
    },
    "id": "4qQGMZF5EXUA"
   },
   "outputs": [],
   "source": [
    "repo_url = 'https://zenodo.org/record/4843485/files/'\n",
    "repo_file_names = [\n",
    "        'hansard-speeches-v310.csv.zip',\n",
    "        'parliamentary_posts.json'\n",
    "]"
   ]
  },
  {
   "cell_type": "code",
   "execution_count": 11,
   "metadata": {
    "executionInfo": {
     "elapsed": 8,
     "status": "ok",
     "timestamp": 1622539347019,
     "user": {
      "displayName": "Ben Dennes",
      "photoUrl": "https://lh3.googleusercontent.com/a-/AOh14Gietm7VL1EPGw5_7KIwu0dDBYFGlFdVT_JdfWdzJw=s64",
      "userId": "15783287089786822801"
     },
     "user_tz": -60
    },
    "id": "kt4Ml5cjE4_0"
   },
   "outputs": [],
   "source": [
    "# # run once only\n",
    "# for fn in repo_file_names:\n",
    "#     os.system(f'wget {repo_url + fn}')"
   ]
  },
  {
   "cell_type": "code",
   "execution_count": 12,
   "metadata": {
    "executionInfo": {
     "elapsed": 61701,
     "status": "ok",
     "timestamp": 1622539793122,
     "user": {
      "displayName": "Ben Dennes",
      "photoUrl": "https://lh3.googleusercontent.com/a-/AOh14Gietm7VL1EPGw5_7KIwu0dDBYFGlFdVT_JdfWdzJw=s64",
      "userId": "15783287089786822801"
     },
     "user_tz": -60
    },
    "id": "V4Y1Yb1UNQ0q"
   },
   "outputs": [],
   "source": [
    "# load compressed csv to dataframe\n",
    "df = pd.read_csv(repo_file_names[0],\n",
    "                 dtype=str,\n",
    "                 parse_dates=['date'])"
   ]
  },
  {
   "cell_type": "code",
   "execution_count": 13,
   "metadata": {},
   "outputs": [],
   "source": [
    "# filter date range\n",
    "date_from = pd.to_datetime('2010-05-25') # start of coalition government 2010-15\n",
    "date_to = pd.to_datetime('2019-11-06') # end of Conservative government preceding 2019 GE\n",
    "\n",
    "df_all = df.copy()\n",
    "df = df[(date_from <= df.date) & (df.date <= date_to)]"
   ]
  },
  {
   "cell_type": "code",
   "execution_count": 14,
   "metadata": {},
   "outputs": [],
   "source": [
    "# filter speech class - keep only actual speeches (not procedural/division Hansard entries)\n",
    "df = df[df.speech_class=='Speech']\n",
    "\n",
    "# remove unneeded columns\n",
    "drop_cols = ['year', 'id', 'speakername', 'speech_class', 'hansard_membership_id', 'colnum', 'time', 'person_id', 'speakerid', 'url', 'oral_heading']\n",
    "df.drop(labels=drop_cols, axis=1, inplace=True)"
   ]
  },
  {
   "cell_type": "code",
   "execution_count": 15,
   "metadata": {
    "tags": []
   },
   "outputs": [],
   "source": [
    "# replace newline and tab characters with space\n",
    "df = df.replace(r'\\\\n',' ', regex=True)\n",
    "df = df.replace(r'\\\\t',' ', regex=True)\n",
    "\n",
    "# replace multiple space characters with single space\n",
    "df = df.replace('\\s+',' ', regex=True)"
   ]
  },
  {
   "cell_type": "code",
   "execution_count": 16,
   "metadata": {},
   "outputs": [],
   "source": [
    "with open('hansard-speeches-post2010.pkl', 'wb') as f:\n",
    "    pickle.dump(df, f)"
   ]
  }
 ],
 "metadata": {
  "colab": {
   "authorship_tag": "ABX9TyPRqQfB7cFTmFw5quwcu3vo",
   "collapsed_sections": [],
   "mount_file_id": "1TjNzv1zPXA-1kFlwqHKZunIz1ilcQBNe",
   "name": "hansard_get_process.ipynb",
   "provenance": []
  },
  "kernelspec": {
   "display_name": "Python 3",
   "language": "python",
   "name": "python3"
  },
  "language_info": {
   "codemirror_mode": {
    "name": "ipython",
    "version": 3
   },
   "file_extension": ".py",
   "mimetype": "text/x-python",
   "name": "python",
   "nbconvert_exporter": "python",
   "pygments_lexer": "ipython3",
   "version": "3.8.5"
  }
 },
 "nbformat": 4,
 "nbformat_minor": 4
}
