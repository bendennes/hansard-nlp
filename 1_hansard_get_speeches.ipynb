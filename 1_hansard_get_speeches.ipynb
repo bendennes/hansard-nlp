{
 "cells": [
  {
   "cell_type": "code",
   "execution_count": 1,
   "metadata": {
    "executionInfo": {
     "elapsed": 196,
     "status": "ok",
     "timestamp": 1622539345677,
     "user": {
      "displayName": "Ben Dennes",
      "photoUrl": "https://lh3.googleusercontent.com/a-/AOh14Gietm7VL1EPGw5_7KIwu0dDBYFGlFdVT_JdfWdzJw=s64",
      "userId": "15783287089786822801"
     },
     "user_tz": -60
    },
    "id": "v12K3j1-E3X_"
   },
   "outputs": [],
   "source": [
    "import os\n",
    "import pandas as pd\n",
    "from datetime import datetime\n",
    "import matplotlib.pyplot as plt\n",
    "import pickle"
   ]
  },
  {
   "cell_type": "markdown",
   "metadata": {
    "id": "QfaEQYyECjyp"
   },
   "source": [
    "# Download & Load Data\n",
    "\n",
    "Evan Odell Harvard Speeches Data\n",
    "\n",
    "https://evanodell.com/projects/datasets/hansard-data/"
   ]
  },
  {
   "cell_type": "code",
   "execution_count": 2,
   "metadata": {
    "executionInfo": {
     "elapsed": 8,
     "status": "ok",
     "timestamp": 1622539347018,
     "user": {
      "displayName": "Ben Dennes",
      "photoUrl": "https://lh3.googleusercontent.com/a-/AOh14Gietm7VL1EPGw5_7KIwu0dDBYFGlFdVT_JdfWdzJw=s64",
      "userId": "15783287089786822801"
     },
     "user_tz": -60
    },
    "id": "4qQGMZF5EXUA"
   },
   "outputs": [],
   "source": [
    "repo_url = 'https://zenodo.org/record/4843485/files/'\n",
    "repo_file_names = [\n",
    "        'hansard-speeches-v310.csv.zip',\n",
    "        'parliamentary_posts.json'\n",
    "]"
   ]
  },
  {
   "cell_type": "code",
   "execution_count": 3,
   "metadata": {
    "executionInfo": {
     "elapsed": 8,
     "status": "ok",
     "timestamp": 1622539347019,
     "user": {
      "displayName": "Ben Dennes",
      "photoUrl": "https://lh3.googleusercontent.com/a-/AOh14Gietm7VL1EPGw5_7KIwu0dDBYFGlFdVT_JdfWdzJw=s64",
      "userId": "15783287089786822801"
     },
     "user_tz": -60
    },
    "id": "kt4Ml5cjE4_0"
   },
   "outputs": [],
   "source": [
    "# run once only\n",
    "for fn in repo_file_names:\n",
    "    os.system(f'wget {repo_url + fn}')"
   ]
  },
  {
   "cell_type": "code",
   "execution_count": 3,
   "metadata": {
    "executionInfo": {
     "elapsed": 61701,
     "status": "ok",
     "timestamp": 1622539793122,
     "user": {
      "displayName": "Ben Dennes",
      "photoUrl": "https://lh3.googleusercontent.com/a-/AOh14Gietm7VL1EPGw5_7KIwu0dDBYFGlFdVT_JdfWdzJw=s64",
      "userId": "15783287089786822801"
     },
     "user_tz": -60
    },
    "id": "V4Y1Yb1UNQ0q"
   },
   "outputs": [],
   "source": [
    "# load compressed csv to dataframe\n",
    "df = pd.read_csv(repo_file_names[0],\n",
    "                 dtype=str,\n",
    "                 parse_dates=['date'])"
   ]
  },
  {
   "cell_type": "markdown",
   "metadata": {},
   "source": [
    "# Filter and Clean"
   ]
  },
  {
   "cell_type": "code",
   "execution_count": 4,
   "metadata": {},
   "outputs": [],
   "source": [
    "# filter date range\n",
    "date_from = pd.to_datetime('2010-05-25') # start of coalition government 2010-15\n",
    "date_to = pd.to_datetime('2019-11-06') # end of Conservative government preceding 2019 GE\n",
    "\n",
    "df_all = df.copy()\n",
    "df = df[(date_from <= df.date) & (df.date <= date_to)]"
   ]
  },
  {
   "cell_type": "code",
   "execution_count": 5,
   "metadata": {},
   "outputs": [],
   "source": [
    "# filter speech class - keep only actual speeches (not procedural/division Hansard entries)\n",
    "df = df[df.speech_class=='Speech']\n",
    "\n",
    "# remove unneeded columns\n",
    "drop_cols = ['year', 'id', 'speakername', 'speech_class', 'hansard_membership_id', 'colnum', 'time', 'person_id', 'speakerid', 'url', 'oral_heading']\n",
    "df.drop(labels=drop_cols, axis=1, inplace=True)"
   ]
  },
  {
   "cell_type": "code",
   "execution_count": 6,
   "metadata": {},
   "outputs": [
    {
     "data": {
      "text/plain": [
       "array(['Several Hon. Members', 'The Queen',\n",
       "       'My Lords and Members of the House of Commons',\n",
       "       'Members of the House of Commons', 'An Hon. Member'], dtype=object)"
      ]
     },
     "execution_count": 6,
     "metadata": {},
     "output_type": "execute_result"
    }
   ],
   "source": [
    "df[df.mnis_id.isna()].display_as.unique()"
   ]
  },
  {
   "cell_type": "code",
   "execution_count": 7,
   "metadata": {},
   "outputs": [],
   "source": [
    "# remove rows with nan mnis_id\n",
    "# each MP has an MNIS ID - all entries without one are spoken by non-individual MPs (e.g. 'Several Hon. Members', 'The Queen')\n",
    "df.dropna(axis=0, subset=['mnis_id'], inplace=True)"
   ]
  },
  {
   "cell_type": "code",
   "execution_count": 8,
   "metadata": {},
   "outputs": [],
   "source": [
    "# remove speeches from the Speaker - these are non-topical\n",
    "df = df[df.party != 'Speaker']"
   ]
  },
  {
   "cell_type": "code",
   "execution_count": 9,
   "metadata": {
    "tags": []
   },
   "outputs": [],
   "source": [
    "# replace newline and tab characters with space\n",
    "df = df.replace(r'\\\\n',' ', regex=True)\n",
    "df = df.replace(r'\\\\t',' ', regex=True)\n",
    "\n",
    "# replace full stop with full stop and space\n",
    "# fixes transcription errors: some sentences don't have spaces after full stop at end\n",
    "df = df.replace('.','. ', regex=False)\n",
    "\n",
    "# replace multiple space characters with single space\n",
    "# fix double spaces created by previous steps\n",
    "# and pre-existing double spaces\n",
    "df = df.replace('\\s+',' ', regex=True)"
   ]
  },
  {
   "cell_type": "code",
   "execution_count": 10,
   "metadata": {},
   "outputs": [
    {
     "name": "stderr",
     "output_type": "stream",
     "text": [
      "<ipython-input-10-938c8bbc6e5e>:2: FutureWarning: The default value of regex will change from True to False in a future version.\n",
      "  df['speech'] = df['speech'].str.replace('hon.', 'hon')\n",
      "<ipython-input-10-938c8bbc6e5e>:6: FutureWarning: The default value of regex will change from True to False in a future version.\n",
      "  df['speech'] = df['speech'].str.replace(r\"\\[.*\\]\",\"\")\n"
     ]
    }
   ],
   "source": [
    "# \"hon.\" confuses sentencizer - leads to false positive sentence endings\n",
    "df['speech'] = df['speech'].str.replace('hon.', 'hon')\n",
    "\n",
    "# remove all text between square brackets (including brackets)\n",
    "# text between square brackets is not spoken\n",
    "df['speech'] = df['speech'].str.replace(r\"\\[.*\\]\",\"\")"
   ]
  },
  {
   "cell_type": "code",
   "execution_count": 11,
   "metadata": {},
   "outputs": [
    {
     "data": {
      "text/html": [
       "<div>\n",
       "<style scoped>\n",
       "    .dataframe tbody tr th:only-of-type {\n",
       "        vertical-align: middle;\n",
       "    }\n",
       "\n",
       "    .dataframe tbody tr th {\n",
       "        vertical-align: top;\n",
       "    }\n",
       "\n",
       "    .dataframe thead th {\n",
       "        text-align: right;\n",
       "    }\n",
       "</style>\n",
       "<table border=\"1\" class=\"dataframe\">\n",
       "  <thead>\n",
       "    <tr style=\"text-align: right;\">\n",
       "      <th></th>\n",
       "      <th>speech</th>\n",
       "      <th>display_as</th>\n",
       "      <th>party</th>\n",
       "      <th>constituency</th>\n",
       "      <th>mnis_id</th>\n",
       "      <th>date</th>\n",
       "      <th>major_heading</th>\n",
       "      <th>minor_heading</th>\n",
       "    </tr>\n",
       "  </thead>\n",
       "  <tbody>\n",
       "    <tr>\n",
       "      <th>1958082</th>\n",
       "      <td>I beg to move,That an humble Address be presen...</td>\n",
       "      <td>Peter Lilley</td>\n",
       "      <td>Conservative</td>\n",
       "      <td>Hitchin and Harpenden</td>\n",
       "      <td>68</td>\n",
       "      <td>2010-05-25</td>\n",
       "      <td>DEPUTY SPEAKERS</td>\n",
       "      <td>Debate on the Address — [1st Day]</td>\n",
       "    </tr>\n",
       "    <tr>\n",
       "      <th>1958083</th>\n",
       "      <td>I am delighted to follow the right hon Member ...</td>\n",
       "      <td>Donald Foster</td>\n",
       "      <td>Liberal Democrat</td>\n",
       "      <td>Bath</td>\n",
       "      <td>214</td>\n",
       "      <td>2010-05-25</td>\n",
       "      <td>DEPUTY SPEAKERS</td>\n",
       "      <td>Debate on the Address — [1st Day]</td>\n",
       "    </tr>\n",
       "    <tr>\n",
       "      <th>1958084</th>\n",
       "      <td>I am sure that the whole House will join me in...</td>\n",
       "      <td>Harriet Harman</td>\n",
       "      <td>Labour</td>\n",
       "      <td>Camberwell and Peckham</td>\n",
       "      <td>150</td>\n",
       "      <td>2010-05-25</td>\n",
       "      <td>DEPUTY SPEAKERS</td>\n",
       "      <td>Debate on the Address — [1st Day]</td>\n",
       "    </tr>\n",
       "    <tr>\n",
       "      <th>1958085</th>\n",
       "      <td>Before I go on to the tributes, I welcome the ...</td>\n",
       "      <td>David Cameron</td>\n",
       "      <td>Conservative</td>\n",
       "      <td>Witney</td>\n",
       "      <td>1467</td>\n",
       "      <td>2010-05-25</td>\n",
       "      <td>DEPUTY SPEAKERS</td>\n",
       "      <td>Debate on the Address — [1st Day]</td>\n",
       "    </tr>\n",
       "    <tr>\n",
       "      <th>1958086</th>\n",
       "      <td>On the issue of fairness and responsibility an...</td>\n",
       "      <td>David Blunkett</td>\n",
       "      <td>Labour</td>\n",
       "      <td>Sheffield, Brightside and Hillsborough</td>\n",
       "      <td>395</td>\n",
       "      <td>2010-05-25</td>\n",
       "      <td>DEPUTY SPEAKERS</td>\n",
       "      <td>Debate on the Address — [1st Day]</td>\n",
       "    </tr>\n",
       "    <tr>\n",
       "      <th>...</th>\n",
       "      <td>...</td>\n",
       "      <td>...</td>\n",
       "      <td>...</td>\n",
       "      <td>...</td>\n",
       "      <td>...</td>\n",
       "      <td>...</td>\n",
       "      <td>...</td>\n",
       "      <td>...</td>\n",
       "    </tr>\n",
       "    <tr>\n",
       "      <th>2615300</th>\n",
       "      <td>I congratulate the hon Gentleman on securing t...</td>\n",
       "      <td>James Cartlidge</td>\n",
       "      <td>Conservative</td>\n",
       "      <td>South Suffolk</td>\n",
       "      <td>4519</td>\n",
       "      <td>2019-11-05</td>\n",
       "      <td>Special Educational Needs and Disabilities (S...</td>\n",
       "      <td>NaN</td>\n",
       "    </tr>\n",
       "    <tr>\n",
       "      <th>2615301</th>\n",
       "      <td>I thank the hon Gentleman and agree that under...</td>\n",
       "      <td>Sandy Martin</td>\n",
       "      <td>Labour</td>\n",
       "      <td>Ipswich</td>\n",
       "      <td>4678</td>\n",
       "      <td>2019-11-05</td>\n",
       "      <td>Special Educational Needs and Disabilities (S...</td>\n",
       "      <td>NaN</td>\n",
       "    </tr>\n",
       "    <tr>\n",
       "      <th>2615302</th>\n",
       "      <td>Congratulations on your new position, Mr Speak...</td>\n",
       "      <td>Michelle Donelan</td>\n",
       "      <td>Conservative</td>\n",
       "      <td>Chippenham</td>\n",
       "      <td>4530</td>\n",
       "      <td>2019-11-05</td>\n",
       "      <td>Special Educational Needs and Disabilities (S...</td>\n",
       "      <td>NaN</td>\n",
       "    </tr>\n",
       "    <tr>\n",
       "      <th>2615303</th>\n",
       "      <td>My hon Friend is right to be open and clear ab...</td>\n",
       "      <td>James Cartlidge</td>\n",
       "      <td>Conservative</td>\n",
       "      <td>South Suffolk</td>\n",
       "      <td>4519</td>\n",
       "      <td>2019-11-05</td>\n",
       "      <td>Special Educational Needs and Disabilities (S...</td>\n",
       "      <td>NaN</td>\n",
       "    </tr>\n",
       "    <tr>\n",
       "      <th>2615304</th>\n",
       "      <td>I thank my hon Friend, who has been an assiduo...</td>\n",
       "      <td>Michelle Donelan</td>\n",
       "      <td>Conservative</td>\n",
       "      <td>Chippenham</td>\n",
       "      <td>4530</td>\n",
       "      <td>2019-11-05</td>\n",
       "      <td>Special Educational Needs and Disabilities (S...</td>\n",
       "      <td>NaN</td>\n",
       "    </tr>\n",
       "  </tbody>\n",
       "</table>\n",
       "<p>609719 rows × 8 columns</p>\n",
       "</div>"
      ],
      "text/plain": [
       "                                                    speech        display_as  \\\n",
       "1958082  I beg to move,That an humble Address be presen...      Peter Lilley   \n",
       "1958083  I am delighted to follow the right hon Member ...     Donald Foster   \n",
       "1958084  I am sure that the whole House will join me in...    Harriet Harman   \n",
       "1958085  Before I go on to the tributes, I welcome the ...     David Cameron   \n",
       "1958086  On the issue of fairness and responsibility an...    David Blunkett   \n",
       "...                                                    ...               ...   \n",
       "2615300  I congratulate the hon Gentleman on securing t...   James Cartlidge   \n",
       "2615301  I thank the hon Gentleman and agree that under...      Sandy Martin   \n",
       "2615302  Congratulations on your new position, Mr Speak...  Michelle Donelan   \n",
       "2615303  My hon Friend is right to be open and clear ab...   James Cartlidge   \n",
       "2615304  I thank my hon Friend, who has been an assiduo...  Michelle Donelan   \n",
       "\n",
       "                    party                            constituency mnis_id  \\\n",
       "1958082      Conservative                   Hitchin and Harpenden      68   \n",
       "1958083  Liberal Democrat                                    Bath     214   \n",
       "1958084            Labour                  Camberwell and Peckham     150   \n",
       "1958085      Conservative                                  Witney    1467   \n",
       "1958086            Labour  Sheffield, Brightside and Hillsborough     395   \n",
       "...                   ...                                     ...     ...   \n",
       "2615300      Conservative                           South Suffolk    4519   \n",
       "2615301            Labour                                 Ipswich    4678   \n",
       "2615302      Conservative                              Chippenham    4530   \n",
       "2615303      Conservative                           South Suffolk    4519   \n",
       "2615304      Conservative                              Chippenham    4530   \n",
       "\n",
       "              date                                      major_heading  \\\n",
       "1958082 2010-05-25                                   DEPUTY SPEAKERS    \n",
       "1958083 2010-05-25                                   DEPUTY SPEAKERS    \n",
       "1958084 2010-05-25                                   DEPUTY SPEAKERS    \n",
       "1958085 2010-05-25                                   DEPUTY SPEAKERS    \n",
       "1958086 2010-05-25                                   DEPUTY SPEAKERS    \n",
       "...            ...                                                ...   \n",
       "2615300 2019-11-05   Special Educational Needs and Disabilities (S...   \n",
       "2615301 2019-11-05   Special Educational Needs and Disabilities (S...   \n",
       "2615302 2019-11-05   Special Educational Needs and Disabilities (S...   \n",
       "2615303 2019-11-05   Special Educational Needs and Disabilities (S...   \n",
       "2615304 2019-11-05   Special Educational Needs and Disabilities (S...   \n",
       "\n",
       "                               minor_heading  \n",
       "1958082   Debate on the Address — [1st Day]   \n",
       "1958083   Debate on the Address — [1st Day]   \n",
       "1958084   Debate on the Address — [1st Day]   \n",
       "1958085   Debate on the Address — [1st Day]   \n",
       "1958086   Debate on the Address — [1st Day]   \n",
       "...                                      ...  \n",
       "2615300                                  NaN  \n",
       "2615301                                  NaN  \n",
       "2615302                                  NaN  \n",
       "2615303                                  NaN  \n",
       "2615304                                  NaN  \n",
       "\n",
       "[609719 rows x 8 columns]"
      ]
     },
     "execution_count": 11,
     "metadata": {},
     "output_type": "execute_result"
    }
   ],
   "source": [
    "df"
   ]
  },
  {
   "cell_type": "code",
   "execution_count": 12,
   "metadata": {},
   "outputs": [],
   "source": [
    "MP_info_cols = ['display_as', 'party', 'constituency', 'mnis_id']\n",
    "\n",
    "MP_info = df[MP_info_cols].drop_duplicates(subset='mnis_id').set_index('mnis_id')"
   ]
  },
  {
   "cell_type": "code",
   "execution_count": 14,
   "metadata": {},
   "outputs": [],
   "source": [
    "df = df.drop(columns = ['display_as', 'party', 'constituency'])"
   ]
  },
  {
   "cell_type": "code",
   "execution_count": 16,
   "metadata": {},
   "outputs": [],
   "source": [
    "with open('speeches.pkl', 'wb') as f:\n",
    "    pickle.dump(df, f)\n",
    "    \n",
    "with open('MP_info.pkl', 'wb') as f:\n",
    "    pickle.dump(MP_info, f)"
   ]
  }
 ],
 "metadata": {
  "colab": {
   "authorship_tag": "ABX9TyPRqQfB7cFTmFw5quwcu3vo",
   "collapsed_sections": [],
   "mount_file_id": "1TjNzv1zPXA-1kFlwqHKZunIz1ilcQBNe",
   "name": "hansard_get_process.ipynb",
   "provenance": []
  },
  "kernelspec": {
   "display_name": "Python 3",
   "language": "python",
   "name": "python3"
  },
  "language_info": {
   "codemirror_mode": {
    "name": "ipython",
    "version": 3
   },
   "file_extension": ".py",
   "mimetype": "text/x-python",
   "name": "python",
   "nbconvert_exporter": "python",
   "pygments_lexer": "ipython3",
   "version": "3.8.5"
  }
 },
 "nbformat": 4,
 "nbformat_minor": 4
}
